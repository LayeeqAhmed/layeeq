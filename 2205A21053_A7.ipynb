{
  "nbformat": 4,
  "nbformat_minor": 0,
  "metadata": {
    "colab": {
      "provenance": [],
      "authorship_tag": "ABX9TyOnrVJmsmi4TmHZ4h190u9E",
      "include_colab_link": true
    },
    "kernelspec": {
      "name": "python3",
      "display_name": "Python 3"
    },
    "language_info": {
      "name": "python"
    }
  },
  "cells": [
    {
      "cell_type": "markdown",
      "metadata": {
        "id": "view-in-github",
        "colab_type": "text"
      },
      "source": [
        "<a href=\"https://colab.research.google.com/github/LayeeqAhmed/layeeq/blob/main/2205A21053_A7.ipynb\" target=\"_parent\"><img src=\"https://colab.research.google.com/assets/colab-badge.svg\" alt=\"Open In Colab\"/></a>"
      ]
    },
    {
      "cell_type": "code",
      "execution_count": 1,
      "metadata": {
        "colab": {
          "base_uri": "https://localhost:8080/"
        },
        "id": "xTF_Hnm30UAO",
        "outputId": "87397698-c2e9-4f1f-f021-f0923540a065"
      },
      "outputs": [
        {
          "output_type": "stream",
          "name": "stdout",
          "text": [
            "enter the receving end voltage:220\n",
            "enter the length:40\n",
            "enter the resistance per phase:0.15\n",
            "enter the inductance per phase:1.3263\n",
            "enter the apparent power:381\n",
            "enter the power factor:0.8\n",
            "0:lagging 1: leading0\n",
            "voltage_regulation= 13073.543038253443\n",
            "apparent power= (322.79516528925524+50190.160967107426j)\n",
            "sending end= 322.79516528925524\n",
            "efficiency= 94.42520606740506\n"
          ]
        }
      ],
      "source": [
        "import math\n",
        "\n",
        "Vr=float(input((\"enter the receving end voltage:\")))\n",
        "\n",
        "length=float(input(\"enter the length:\"))\n",
        "\n",
        "r=float(input(\"enter the resistance per phase:\"))\n",
        "\n",
        "l=float(input(\"enter the inductance per phase:\"))\n",
        "\n",
        "load=float(input(\"enter the apparent power:\"))\n",
        "\n",
        "pf=float(input(\"enter the power factor:\"))\n",
        "\n",
        "type_pf=int(input(\"0:lagging 1: leading\"))\n",
        "\n",
        "Vphase=Vr/math.sqrt(3)\n",
        "\n",
        "R=r*length\n",
        "\n",
        "L=l*length\n",
        "\n",
        "X=2*3.14*50*L\n",
        "\n",
        "Z=complex(R,X)\n",
        "\n",
        "p=load*pf\n",
        "\n",
        "Q=load*math.sqrt(1-pf**2)\n",
        "\n",
        "if(type_pf==0):\n",
        "\n",
        " S=complex(p,Q)\n",
        "\n",
        "else:\n",
        "\n",
        "  S=complex(p,-Q)\n",
        "\n",
        "Ir=(S.conjugate())/(3*Vphase)\n",
        "\n",
        "Vs=Vphase+Z*Ir\n",
        "\n",
        "voltage_regulation=(abs (Vs)-Vphase)*100/Vphase\n",
        "\n",
        "print(\"voltage_regulation=\", voltage_regulation)\n",
        "\n",
        "Ssend=3*Vs*Ir.conjugate()\n",
        "\n",
        "print(\"apparent power=\", Ssend)\n",
        "\n",
        "psend=Ssend.real\n",
        "\n",
        "print(\"sending end=\", psend)\n",
        "\n",
        "eff=p*100/psend\n",
        "\n",
        "print(\"efficiency=\",eff)"
      ]
    },
    {
      "cell_type": "code",
      "source": [
        "import math\n",
        "\n",
        "Vr=float(input((\"enter the receving end voltage:\")))\n",
        "\n",
        "length=float(input(\"enter the length:\"))\n",
        "\n",
        "r=float(input(\"enter the resistance per phase:\"))\n",
        "\n",
        "l=float(input(\"enter the inductance per phase:\"))\n",
        "\n",
        "load=float(input(\"enter the apparent power:\"))\n",
        "\n",
        "pf=float(input(\"enter the power factor:\"))\n",
        "\n",
        "type_pf=int(input(\"0:lagging 1: leading\"))\n",
        "\n",
        "Vphase=Vr/math.sqrt(3)\n",
        "\n",
        "R=r*length\n",
        "\n",
        "L=l*length\n",
        "\n",
        "X=2*3.14*50*L\n",
        "\n",
        "Z=complex(R,X)\n",
        "\n",
        "p=load*pf\n",
        "\n",
        "Q=load*math.sqrt(1-pf**2)\n",
        "\n",
        "if(type_pf==0):\n",
        "\n",
        " S=complex(p,Q)\n",
        "\n",
        "else:\n",
        "\n",
        "  S=complex(p,-Q)\n",
        "\n",
        "Ir=(S.conjugate())/(3*Vphase)\n",
        "\n",
        "Vs=Vphase+Z*Ir\n",
        "\n",
        "voltage_regulation=(abs (Vs)-Vphase)*100/Vphase\n",
        "\n",
        "print(\"voltage_regulation=\", voltage_regulation)\n",
        "\n",
        "Ssend=3*Vs*Ir.conjugate()\n",
        "\n",
        "print(\"apparent power=\", Ssend)\n",
        "\n",
        "psend=Ssend.real\n",
        "\n",
        "print(\"sending end=\", psend)\n",
        "\n",
        "eff=p*100/psend\n",
        "\n",
        "print(\"efficiency=\",eff)"
      ],
      "metadata": {
        "colab": {
          "base_uri": "https://localhost:8080/"
        },
        "id": "JmB4YeWP1cPO",
        "outputId": "1c8eb826-d133-4548-9bd7-4f5036e41f0b"
      },
      "execution_count": 2,
      "outputs": [
        {
          "output_type": "stream",
          "name": "stdout",
          "text": [
            "enter the receving end voltage:220\n",
            "enter the length:40\n",
            "enter the resistance per phase:0.15\n",
            "enter the inductance per phase:1.3263\n",
            "enter the apparent power:381\n",
            "enter the power factor:0.8\n",
            "0:lagging 1: leading1\n",
            "voltage_regulation= 12953.545542798165\n",
            "apparent power= (322.79516528925524+49732.960967107414j)\n",
            "sending end= 322.79516528925524\n",
            "efficiency= 94.42520606740506\n"
          ]
        }
      ]
    }
  ]
}