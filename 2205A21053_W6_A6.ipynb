{
  "nbformat": 4,
  "nbformat_minor": 0,
  "metadata": {
    "colab": {
      "provenance": [],
      "authorship_tag": "ABX9TyOg07hFhCmkpp2JdRbjbaDW",
      "include_colab_link": true
    },
    "kernelspec": {
      "name": "python3",
      "display_name": "Python 3"
    },
    "language_info": {
      "name": "python"
    }
  },
  "cells": [
    {
      "cell_type": "markdown",
      "metadata": {
        "id": "view-in-github",
        "colab_type": "text"
      },
      "source": [
        "<a href=\"https://colab.research.google.com/github/LayeeqAhmed/layeeq/blob/main/2205A21053_W6_A6.ipynb\" target=\"_parent\"><img src=\"https://colab.research.google.com/assets/colab-badge.svg\" alt=\"Open In Colab\"/></a>"
      ]
    },
    {
      "cell_type": "code",
      "execution_count": 1,
      "metadata": {
        "colab": {
          "base_uri": "https://localhost:8080/"
        },
        "id": "RwoEHYygr2QI",
        "outputId": "0fbb5103-0873-42c4-ca76-7f3423ce2244"
      },
      "outputs": [
        {
          "output_type": "stream",
          "name": "stdout",
          "text": [
            "++++++\n",
            "+++++\n",
            "++++\n",
            "+++\n",
            "++\n",
            "+\n"
          ]
        }
      ],
      "source": [
        "for r in range(6):\n",
        "  for c in range(6):\n",
        "    if (r<=c):\n",
        "      print(\"+\",end=\"\")\n",
        "  print()\n",
        ""
      ]
    },
    {
      "cell_type": "code",
      "source": [
        "for r in range(6):\n",
        "  for c in range(6):\n",
        "    if (c<=r):\n",
        "      print(\"*\",end=\"\")\n",
        "  print()"
      ],
      "metadata": {
        "colab": {
          "base_uri": "https://localhost:8080/"
        },
        "id": "aEjj7eR1sYIG",
        "outputId": "1cbe594d-3609-4c00-c155-b58abae9050b"
      },
      "execution_count": 2,
      "outputs": [
        {
          "output_type": "stream",
          "name": "stdout",
          "text": [
            "*\n",
            "**\n",
            "***\n",
            "****\n",
            "*****\n",
            "******\n"
          ]
        }
      ]
    },
    {
      "cell_type": "code",
      "source": [
        "for r in range(5):\n",
        "    for c in range(5):\n",
        "        if (c < 5 - r - 1):\n",
        "            print(\" \", end=\"\")\n",
        "        else:\n",
        "            print(\"*\", end=\"\")\n",
        "    print()"
      ],
      "metadata": {
        "colab": {
          "base_uri": "https://localhost:8080/"
        },
        "id": "YYmbX30VsX1-",
        "outputId": "ec834c2e-60c4-43dc-8aa6-1e035134ff5a"
      },
      "execution_count": 3,
      "outputs": [
        {
          "output_type": "stream",
          "name": "stdout",
          "text": [
            "    *\n",
            "   **\n",
            "  ***\n",
            " ****\n",
            "*****\n"
          ]
        }
      ]
    },
    {
      "cell_type": "code",
      "source": [
        "for r in range(6):\n",
        "    for c in range(6):\n",
        "        if (c<r):\n",
        "            print(\" \", end=\"\")\n",
        "        else:\n",
        "            print(\"+\", end=\"\")\n",
        "    print()"
      ],
      "metadata": {
        "colab": {
          "base_uri": "https://localhost:8080/"
        },
        "id": "ibwSiIRfsetF",
        "outputId": "0f3c7558-0fd2-4adc-ec4b-bd2cd4f1be94"
      },
      "execution_count": 4,
      "outputs": [
        {
          "output_type": "stream",
          "name": "stdout",
          "text": [
            "++++++\n",
            " +++++\n",
            "  ++++\n",
            "   +++\n",
            "    ++\n",
            "     +\n"
          ]
        }
      ]
    },
    {
      "cell_type": "code",
      "source": [
        "r=0\n",
        "while (r in range(6)):\n",
        "  c=0\n",
        "  while (c in range(6)):\n",
        "    if(r<=c):\n",
        "      print(\"+\",end=\"\")\n",
        "    c+=1\n",
        "  print()\n",
        "  r+=1"
      ],
      "metadata": {
        "colab": {
          "base_uri": "https://localhost:8080/"
        },
        "id": "5HxKXeTFsugy",
        "outputId": "053a3a88-96f8-45b4-bb48-e5b450f3e6e4"
      },
      "execution_count": 5,
      "outputs": [
        {
          "output_type": "stream",
          "name": "stdout",
          "text": [
            "++++++\n",
            "+++++\n",
            "++++\n",
            "+++\n",
            "++\n",
            "+\n"
          ]
        }
      ]
    },
    {
      "cell_type": "code",
      "source": [
        "r=0\n",
        "while (r in range(6)):\n",
        "  c=0\n",
        "  while (c in range(6)):\n",
        "    if(c<=r):\n",
        "      print(\"*\",end=\"\")\n",
        "    c+=1\n",
        "  print()\n",
        "  r+=1"
      ],
      "metadata": {
        "colab": {
          "base_uri": "https://localhost:8080/"
        },
        "id": "vwINXBnzsyWU",
        "outputId": "b37d11cb-8a6a-470e-9a24-35b3629b59ce"
      },
      "execution_count": 6,
      "outputs": [
        {
          "output_type": "stream",
          "name": "stdout",
          "text": [
            "*\n",
            "**\n",
            "***\n",
            "****\n",
            "*****\n",
            "******\n"
          ]
        }
      ]
    },
    {
      "cell_type": "code",
      "source": [
        "r=0\n",
        "while (r in range(5)):\n",
        "  c=0\n",
        "  while (c in range(5)):\n",
        "        if (c < 5 - r - 1):\n",
        "            print(\" \", end=\"\")\n",
        "            c+=1\n",
        "        else:\n",
        "            print(\"*\", end=\"\")\n",
        "            c+=1\n",
        "  print()\n",
        "  r+=1"
      ],
      "metadata": {
        "colab": {
          "base_uri": "https://localhost:8080/"
        },
        "id": "uhZOpJ0Qs2pX",
        "outputId": "afd839eb-59c0-48f5-f293-3e5e3afaaec9"
      },
      "execution_count": 7,
      "outputs": [
        {
          "output_type": "stream",
          "name": "stdout",
          "text": [
            "    *\n",
            "   **\n",
            "  ***\n",
            " ****\n",
            "*****\n"
          ]
        }
      ]
    },
    {
      "cell_type": "code",
      "source": [
        "r=0\n",
        "while (r in range(6)):\n",
        "  c=0\n",
        "  while (c in range(6)):\n",
        "    if(r<=c):\n",
        "      print(\"+\",end=\"\")\n",
        "    else:\n",
        "      print(\" \",end=\"\")\n",
        "    c+=1\n",
        "  print()\n",
        "  r+=1"
      ],
      "metadata": {
        "colab": {
          "base_uri": "https://localhost:8080/"
        },
        "id": "-TlrZdLEs-Mh",
        "outputId": "f4ad3a9c-611f-4678-c0de-33f9bd7105b8"
      },
      "execution_count": 8,
      "outputs": [
        {
          "output_type": "stream",
          "name": "stdout",
          "text": [
            "++++++\n",
            " +++++\n",
            "  ++++\n",
            "   +++\n",
            "    ++\n",
            "     +\n"
          ]
        }
      ]
    },
    {
      "cell_type": "code",
      "source": [],
      "metadata": {
        "id": "zUjrEK2btDs9"
      },
      "execution_count": null,
      "outputs": []
    }
  ]
}